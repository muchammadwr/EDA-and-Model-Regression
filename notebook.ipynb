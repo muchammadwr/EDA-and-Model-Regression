{
 "cells": [
  {
   "cell_type": "markdown",
   "metadata": {},
   "source": [
    "The problem\n",
    "When considering a new job, these are the common questions to ask:\n",
    "\n",
    "- What's the job title?\n",
    "- Where is this job located?\n",
    "- Can I work remotely?\n",
    "- What experience level is this?\n",
    "- How big is this company?"
   ]
  },
  {
   "cell_type": "code",
   "execution_count": 1,
   "metadata": {},
   "outputs": [],
   "source": [
    "# Import Libraries\n",
    "\n",
    "import numpy as np\n",
    "import pandas as pd\n",
    "import matplotlib.pyplot as plt\n",
    "import seaborn as sns"
   ]
  },
  {
   "cell_type": "code",
   "execution_count": 2,
   "metadata": {},
   "outputs": [
    {
     "data": {
      "text/html": [
       "<div>\n",
       "<style scoped>\n",
       "    .dataframe tbody tr th:only-of-type {\n",
       "        vertical-align: middle;\n",
       "    }\n",
       "\n",
       "    .dataframe tbody tr th {\n",
       "        vertical-align: top;\n",
       "    }\n",
       "\n",
       "    .dataframe thead th {\n",
       "        text-align: right;\n",
       "    }\n",
       "</style>\n",
       "<table border=\"1\" class=\"dataframe\">\n",
       "  <thead>\n",
       "    <tr style=\"text-align: right;\">\n",
       "      <th></th>\n",
       "      <th>work_year</th>\n",
       "      <th>experience_level</th>\n",
       "      <th>employment_type</th>\n",
       "      <th>job_title</th>\n",
       "      <th>salary</th>\n",
       "      <th>salary_currency</th>\n",
       "      <th>salary_in_usd</th>\n",
       "      <th>employee_residence</th>\n",
       "      <th>remote_ratio</th>\n",
       "      <th>company_location</th>\n",
       "      <th>company_size</th>\n",
       "    </tr>\n",
       "  </thead>\n",
       "  <tbody>\n",
       "    <tr>\n",
       "      <th>0</th>\n",
       "      <td>2023</td>\n",
       "      <td>SE</td>\n",
       "      <td>FT</td>\n",
       "      <td>Principal Data Scientist</td>\n",
       "      <td>80000</td>\n",
       "      <td>EUR</td>\n",
       "      <td>85847</td>\n",
       "      <td>ES</td>\n",
       "      <td>100</td>\n",
       "      <td>ES</td>\n",
       "      <td>L</td>\n",
       "    </tr>\n",
       "    <tr>\n",
       "      <th>1</th>\n",
       "      <td>2023</td>\n",
       "      <td>MI</td>\n",
       "      <td>CT</td>\n",
       "      <td>ML Engineer</td>\n",
       "      <td>30000</td>\n",
       "      <td>USD</td>\n",
       "      <td>30000</td>\n",
       "      <td>US</td>\n",
       "      <td>100</td>\n",
       "      <td>US</td>\n",
       "      <td>S</td>\n",
       "    </tr>\n",
       "    <tr>\n",
       "      <th>2</th>\n",
       "      <td>2023</td>\n",
       "      <td>MI</td>\n",
       "      <td>CT</td>\n",
       "      <td>ML Engineer</td>\n",
       "      <td>25500</td>\n",
       "      <td>USD</td>\n",
       "      <td>25500</td>\n",
       "      <td>US</td>\n",
       "      <td>100</td>\n",
       "      <td>US</td>\n",
       "      <td>S</td>\n",
       "    </tr>\n",
       "    <tr>\n",
       "      <th>3</th>\n",
       "      <td>2023</td>\n",
       "      <td>SE</td>\n",
       "      <td>FT</td>\n",
       "      <td>Data Scientist</td>\n",
       "      <td>175000</td>\n",
       "      <td>USD</td>\n",
       "      <td>175000</td>\n",
       "      <td>CA</td>\n",
       "      <td>100</td>\n",
       "      <td>CA</td>\n",
       "      <td>M</td>\n",
       "    </tr>\n",
       "    <tr>\n",
       "      <th>4</th>\n",
       "      <td>2023</td>\n",
       "      <td>SE</td>\n",
       "      <td>FT</td>\n",
       "      <td>Data Scientist</td>\n",
       "      <td>120000</td>\n",
       "      <td>USD</td>\n",
       "      <td>120000</td>\n",
       "      <td>CA</td>\n",
       "      <td>100</td>\n",
       "      <td>CA</td>\n",
       "      <td>M</td>\n",
       "    </tr>\n",
       "  </tbody>\n",
       "</table>\n",
       "</div>"
      ],
      "text/plain": [
       "   work_year experience_level employment_type                 job_title  \\\n",
       "0       2023               SE              FT  Principal Data Scientist   \n",
       "1       2023               MI              CT               ML Engineer   \n",
       "2       2023               MI              CT               ML Engineer   \n",
       "3       2023               SE              FT            Data Scientist   \n",
       "4       2023               SE              FT            Data Scientist   \n",
       "\n",
       "   salary salary_currency  salary_in_usd employee_residence  remote_ratio  \\\n",
       "0   80000             EUR          85847                 ES           100   \n",
       "1   30000             USD          30000                 US           100   \n",
       "2   25500             USD          25500                 US           100   \n",
       "3  175000             USD         175000                 CA           100   \n",
       "4  120000             USD         120000                 CA           100   \n",
       "\n",
       "  company_location company_size  \n",
       "0               ES            L  \n",
       "1               US            S  \n",
       "2               US            S  \n",
       "3               CA            M  \n",
       "4               CA            M  "
      ]
     },
     "execution_count": 2,
     "metadata": {},
     "output_type": "execute_result"
    }
   ],
   "source": [
    "# Read Data\n",
    "\n",
    "df = pd.read_csv('ds_salaries.csv')\n",
    "df.head()"
   ]
  },
  {
   "cell_type": "code",
   "execution_count": 3,
   "metadata": {},
   "outputs": [
    {
     "data": {
      "text/plain": [
       "(3755, 11)"
      ]
     },
     "execution_count": 3,
     "metadata": {},
     "output_type": "execute_result"
    }
   ],
   "source": [
    "# Size Data\n",
    "df.shape"
   ]
  },
  {
   "cell_type": "code",
   "execution_count": 4,
   "metadata": {},
   "outputs": [
    {
     "name": "stdout",
     "output_type": "stream",
     "text": [
      "<class 'pandas.core.frame.DataFrame'>\n",
      "RangeIndex: 3755 entries, 0 to 3754\n",
      "Data columns (total 11 columns):\n",
      " #   Column              Non-Null Count  Dtype \n",
      "---  ------              --------------  ----- \n",
      " 0   work_year           3755 non-null   int64 \n",
      " 1   experience_level    3755 non-null   object\n",
      " 2   employment_type     3755 non-null   object\n",
      " 3   job_title           3755 non-null   object\n",
      " 4   salary              3755 non-null   int64 \n",
      " 5   salary_currency     3755 non-null   object\n",
      " 6   salary_in_usd       3755 non-null   int64 \n",
      " 7   employee_residence  3755 non-null   object\n",
      " 8   remote_ratio        3755 non-null   int64 \n",
      " 9   company_location    3755 non-null   object\n",
      " 10  company_size        3755 non-null   object\n",
      "dtypes: int64(4), object(7)\n",
      "memory usage: 322.8+ KB\n"
     ]
    }
   ],
   "source": [
    "# Information Data\n",
    "df.info()"
   ]
  },
  {
   "cell_type": "markdown",
   "metadata": {},
   "source": [
    "## Data Wrangling"
   ]
  },
  {
   "cell_type": "code",
   "execution_count": 5,
   "metadata": {},
   "outputs": [
    {
     "data": {
      "text/plain": [
       "work_year             0\n",
       "experience_level      0\n",
       "employment_type       0\n",
       "job_title             0\n",
       "salary                0\n",
       "salary_currency       0\n",
       "salary_in_usd         0\n",
       "employee_residence    0\n",
       "remote_ratio          0\n",
       "company_location      0\n",
       "company_size          0\n",
       "dtype: int64"
      ]
     },
     "execution_count": 5,
     "metadata": {},
     "output_type": "execute_result"
    }
   ],
   "source": [
    "# Check Missing Values\n",
    "\n",
    "df.isna().sum()"
   ]
  },
  {
   "cell_type": "code",
   "execution_count": 6,
   "metadata": {},
   "outputs": [
    {
     "data": {
      "text/plain": [
       "1171"
      ]
     },
     "execution_count": 6,
     "metadata": {},
     "output_type": "execute_result"
    }
   ],
   "source": [
    "# Check Data Duplicates\n",
    "\n",
    "df.duplicated().sum()"
   ]
  },
  {
   "cell_type": "code",
   "execution_count": 7,
   "metadata": {},
   "outputs": [
    {
     "name": "stdout",
     "output_type": "stream",
     "text": [
      "Data Duplicates:  0\n"
     ]
    }
   ],
   "source": [
    "# Handling Data Duplicates\n",
    "\n",
    "df.drop_duplicates(inplace=True)\n",
    "print(\"Data Duplicates: \", df.duplicated().sum())"
   ]
  },
  {
   "cell_type": "code",
   "execution_count": 8,
   "metadata": {},
   "outputs": [],
   "source": [
    "# Splitting Categorical and Numerical Data\n",
    "df_categorical = df.select_dtypes(include='object') \n",
    "df_numerical = df.select_dtypes(exclude='object')\n"
   ]
  },
  {
   "cell_type": "code",
   "execution_count": 9,
   "metadata": {},
   "outputs": [
    {
     "data": {
      "text/html": [
       "<div>\n",
       "<style scoped>\n",
       "    .dataframe tbody tr th:only-of-type {\n",
       "        vertical-align: middle;\n",
       "    }\n",
       "\n",
       "    .dataframe tbody tr th {\n",
       "        vertical-align: top;\n",
       "    }\n",
       "\n",
       "    .dataframe thead th {\n",
       "        text-align: right;\n",
       "    }\n",
       "</style>\n",
       "<table border=\"1\" class=\"dataframe\">\n",
       "  <thead>\n",
       "    <tr style=\"text-align: right;\">\n",
       "      <th></th>\n",
       "      <th>experience_level</th>\n",
       "      <th>employment_type</th>\n",
       "      <th>job_title</th>\n",
       "      <th>salary_currency</th>\n",
       "      <th>employee_residence</th>\n",
       "      <th>company_location</th>\n",
       "      <th>company_size</th>\n",
       "    </tr>\n",
       "  </thead>\n",
       "  <tbody>\n",
       "    <tr>\n",
       "      <th>0</th>\n",
       "      <td>SE</td>\n",
       "      <td>FT</td>\n",
       "      <td>Principal Data Scientist</td>\n",
       "      <td>EUR</td>\n",
       "      <td>ES</td>\n",
       "      <td>ES</td>\n",
       "      <td>L</td>\n",
       "    </tr>\n",
       "    <tr>\n",
       "      <th>1</th>\n",
       "      <td>MI</td>\n",
       "      <td>CT</td>\n",
       "      <td>ML Engineer</td>\n",
       "      <td>USD</td>\n",
       "      <td>US</td>\n",
       "      <td>US</td>\n",
       "      <td>S</td>\n",
       "    </tr>\n",
       "    <tr>\n",
       "      <th>2</th>\n",
       "      <td>MI</td>\n",
       "      <td>CT</td>\n",
       "      <td>ML Engineer</td>\n",
       "      <td>USD</td>\n",
       "      <td>US</td>\n",
       "      <td>US</td>\n",
       "      <td>S</td>\n",
       "    </tr>\n",
       "    <tr>\n",
       "      <th>3</th>\n",
       "      <td>SE</td>\n",
       "      <td>FT</td>\n",
       "      <td>Data Scientist</td>\n",
       "      <td>USD</td>\n",
       "      <td>CA</td>\n",
       "      <td>CA</td>\n",
       "      <td>M</td>\n",
       "    </tr>\n",
       "    <tr>\n",
       "      <th>4</th>\n",
       "      <td>SE</td>\n",
       "      <td>FT</td>\n",
       "      <td>Data Scientist</td>\n",
       "      <td>USD</td>\n",
       "      <td>CA</td>\n",
       "      <td>CA</td>\n",
       "      <td>M</td>\n",
       "    </tr>\n",
       "  </tbody>\n",
       "</table>\n",
       "</div>"
      ],
      "text/plain": [
       "  experience_level employment_type                 job_title salary_currency  \\\n",
       "0               SE              FT  Principal Data Scientist             EUR   \n",
       "1               MI              CT               ML Engineer             USD   \n",
       "2               MI              CT               ML Engineer             USD   \n",
       "3               SE              FT            Data Scientist             USD   \n",
       "4               SE              FT            Data Scientist             USD   \n",
       "\n",
       "  employee_residence company_location company_size  \n",
       "0                 ES               ES            L  \n",
       "1                 US               US            S  \n",
       "2                 US               US            S  \n",
       "3                 CA               CA            M  \n",
       "4                 CA               CA            M  "
      ]
     },
     "execution_count": 9,
     "metadata": {},
     "output_type": "execute_result"
    }
   ],
   "source": [
    "# Categorical Data\n",
    "df_categorical.head()"
   ]
  },
  {
   "cell_type": "code",
   "execution_count": 10,
   "metadata": {},
   "outputs": [
    {
     "data": {
      "text/html": [
       "<div>\n",
       "<style scoped>\n",
       "    .dataframe tbody tr th:only-of-type {\n",
       "        vertical-align: middle;\n",
       "    }\n",
       "\n",
       "    .dataframe tbody tr th {\n",
       "        vertical-align: top;\n",
       "    }\n",
       "\n",
       "    .dataframe thead th {\n",
       "        text-align: right;\n",
       "    }\n",
       "</style>\n",
       "<table border=\"1\" class=\"dataframe\">\n",
       "  <thead>\n",
       "    <tr style=\"text-align: right;\">\n",
       "      <th></th>\n",
       "      <th>work_year</th>\n",
       "      <th>salary</th>\n",
       "      <th>salary_in_usd</th>\n",
       "      <th>remote_ratio</th>\n",
       "    </tr>\n",
       "  </thead>\n",
       "  <tbody>\n",
       "    <tr>\n",
       "      <th>0</th>\n",
       "      <td>2023</td>\n",
       "      <td>80000</td>\n",
       "      <td>85847</td>\n",
       "      <td>100</td>\n",
       "    </tr>\n",
       "    <tr>\n",
       "      <th>1</th>\n",
       "      <td>2023</td>\n",
       "      <td>30000</td>\n",
       "      <td>30000</td>\n",
       "      <td>100</td>\n",
       "    </tr>\n",
       "    <tr>\n",
       "      <th>2</th>\n",
       "      <td>2023</td>\n",
       "      <td>25500</td>\n",
       "      <td>25500</td>\n",
       "      <td>100</td>\n",
       "    </tr>\n",
       "    <tr>\n",
       "      <th>3</th>\n",
       "      <td>2023</td>\n",
       "      <td>175000</td>\n",
       "      <td>175000</td>\n",
       "      <td>100</td>\n",
       "    </tr>\n",
       "    <tr>\n",
       "      <th>4</th>\n",
       "      <td>2023</td>\n",
       "      <td>120000</td>\n",
       "      <td>120000</td>\n",
       "      <td>100</td>\n",
       "    </tr>\n",
       "  </tbody>\n",
       "</table>\n",
       "</div>"
      ],
      "text/plain": [
       "   work_year  salary  salary_in_usd  remote_ratio\n",
       "0       2023   80000          85847           100\n",
       "1       2023   30000          30000           100\n",
       "2       2023   25500          25500           100\n",
       "3       2023  175000         175000           100\n",
       "4       2023  120000         120000           100"
      ]
     },
     "execution_count": 10,
     "metadata": {},
     "output_type": "execute_result"
    }
   ],
   "source": [
    "# Numerical Data\n",
    "df_numerical.head()"
   ]
  },
  {
   "cell_type": "code",
   "execution_count": 11,
   "metadata": {},
   "outputs": [],
   "source": [
    "# Check Unique Value in each CategorIcal Data\n",
    "def unique_value(df):\n",
    "   for col in df.columns:\n",
    "     print(f\"Column {col}:\")\n",
    "     print(df[col].value_counts())"
   ]
  },
  {
   "cell_type": "code",
   "execution_count": 12,
   "metadata": {},
   "outputs": [
    {
     "name": "stdout",
     "output_type": "stream",
     "text": [
      "Column work_year:\n",
      "work_year\n",
      "2023    1156\n",
      "2022    1125\n",
      "2021     228\n",
      "2020      75\n",
      "Name: count, dtype: int64\n",
      "Column salary:\n",
      "salary\n",
      "100000    70\n",
      "120000    59\n",
      "150000    58\n",
      "200000    48\n",
      "80000     46\n",
      "          ..\n",
      "126277     1\n",
      "153088     1\n",
      "323300     1\n",
      "200160     1\n",
      "412000     1\n",
      "Name: count, Length: 815, dtype: int64\n",
      "Column salary_in_usd:\n",
      "salary_in_usd\n",
      "100000    58\n",
      "150000    56\n",
      "120000    51\n",
      "200000    47\n",
      "130000    39\n",
      "          ..\n",
      "314100     1\n",
      "195800     1\n",
      "262500     1\n",
      "209450     1\n",
      "94665      1\n",
      "Name: count, Length: 1035, dtype: int64\n",
      "Column remote_ratio:\n",
      "remote_ratio\n",
      "100    1211\n",
      "0      1186\n",
      "50      187\n",
      "Name: count, dtype: int64\n"
     ]
    }
   ],
   "source": [
    "# Data Numerical\n",
    "unique_value(df_numerical)"
   ]
  },
  {
   "cell_type": "code",
   "execution_count": 13,
   "metadata": {},
   "outputs": [
    {
     "name": "stdout",
     "output_type": "stream",
     "text": [
      "Column experience_level:\n",
      "experience_level\n",
      "SE    1554\n",
      "MI     664\n",
      "EN     270\n",
      "EX      96\n",
      "Name: count, dtype: int64\n",
      "Column employment_type:\n",
      "employment_type\n",
      "FT    2547\n",
      "PT      17\n",
      "CT      10\n",
      "FL      10\n",
      "Name: count, dtype: int64\n",
      "Column job_title:\n",
      "job_title\n",
      "Data Engineer                598\n",
      "Data Scientist               538\n",
      "Data Analyst                 396\n",
      "Machine Learning Engineer    206\n",
      "Analytics Engineer            91\n",
      "                            ... \n",
      "Compliance Data Analyst        1\n",
      "Deep Learning Researcher       1\n",
      "Staff Data Analyst             1\n",
      "Data DevOps Engineer           1\n",
      "Finance Data Analyst           1\n",
      "Name: count, Length: 93, dtype: int64\n",
      "Column salary_currency:\n",
      "salary_currency\n",
      "USD    2107\n",
      "EUR     200\n",
      "GBP     144\n",
      "INR      59\n",
      "CAD      25\n",
      "AUD       9\n",
      "SGD       6\n",
      "BRL       6\n",
      "PLN       5\n",
      "CHF       4\n",
      "HUF       3\n",
      "DKK       3\n",
      "JPY       3\n",
      "TRY       3\n",
      "THB       2\n",
      "ILS       1\n",
      "HKD       1\n",
      "CZK       1\n",
      "MXN       1\n",
      "CLP       1\n",
      "Name: count, dtype: int64\n",
      "Column employee_residence:\n",
      "employee_residence\n",
      "US    1893\n",
      "GB     150\n",
      "CA      81\n",
      "IN      70\n",
      "ES      47\n",
      "      ... \n",
      "BA       1\n",
      "AM       1\n",
      "CY       1\n",
      "KW       1\n",
      "MT       1\n",
      "Name: count, Length: 78, dtype: int64\n",
      "Column company_location:\n",
      "company_location\n",
      "US    1929\n",
      "GB     155\n",
      "CA      83\n",
      "IN      57\n",
      "DE      55\n",
      "      ... \n",
      "MK       1\n",
      "BS       1\n",
      "IR       1\n",
      "CR       1\n",
      "MT       1\n",
      "Name: count, Length: 72, dtype: int64\n",
      "Column company_size:\n",
      "company_size\n",
      "M    2028\n",
      "L     409\n",
      "S     147\n",
      "Name: count, dtype: int64\n"
     ]
    }
   ],
   "source": [
    "# Data Categorical\n",
    "unique_value(df_categorical)"
   ]
  },
  {
   "cell_type": "code",
   "execution_count": 14,
   "metadata": {},
   "outputs": [
    {
     "data": {
      "text/plain": [
       "array(['Principal Data Scientist', 'ML Engineer', 'Data Scientist',\n",
       "       'Applied Scientist', 'Data Analyst', 'Data Modeler',\n",
       "       'Research Engineer', 'Analytics Engineer',\n",
       "       'Business Intelligence Engineer', 'Machine Learning Engineer',\n",
       "       'Data Strategist', 'Data Engineer', 'Computer Vision Engineer',\n",
       "       'Data Quality Analyst', 'Compliance Data Analyst',\n",
       "       'Data Architect', 'Applied Machine Learning Engineer',\n",
       "       'AI Developer', 'Research Scientist', 'Data Analytics Manager',\n",
       "       'Business Data Analyst', 'Applied Data Scientist',\n",
       "       'Staff Data Analyst', 'ETL Engineer', 'Data DevOps Engineer',\n",
       "       'Head of Data', 'Data Science Manager', 'Data Manager',\n",
       "       'Machine Learning Researcher', 'Big Data Engineer',\n",
       "       'Data Specialist', 'Lead Data Analyst', 'BI Data Engineer',\n",
       "       'Director of Data Science', 'Machine Learning Scientist',\n",
       "       'MLOps Engineer', 'AI Scientist', 'Autonomous Vehicle Technician',\n",
       "       'Applied Machine Learning Scientist', 'Lead Data Scientist',\n",
       "       'Cloud Database Engineer', 'Financial Data Analyst',\n",
       "       'Data Infrastructure Engineer', 'Software Data Engineer',\n",
       "       'AI Programmer', 'Data Operations Engineer', 'BI Developer',\n",
       "       'Data Science Lead', 'Deep Learning Researcher', 'BI Analyst',\n",
       "       'Data Science Consultant', 'Data Analytics Specialist',\n",
       "       'Machine Learning Infrastructure Engineer', 'BI Data Analyst',\n",
       "       'Head of Data Science', 'Insight Analyst',\n",
       "       'Deep Learning Engineer', 'Machine Learning Software Engineer',\n",
       "       'Big Data Architect', 'Product Data Analyst',\n",
       "       'Computer Vision Software Engineer', 'Azure Data Engineer',\n",
       "       'Marketing Data Engineer', 'Data Analytics Lead', 'Data Lead',\n",
       "       'Data Science Engineer', 'Machine Learning Research Engineer',\n",
       "       'NLP Engineer', 'Manager Data Management',\n",
       "       'Machine Learning Developer', '3D Computer Vision Researcher',\n",
       "       'Principal Machine Learning Engineer', 'Data Analytics Engineer',\n",
       "       'Data Analytics Consultant', 'Data Management Specialist',\n",
       "       'Data Science Tech Lead', 'Data Scientist Lead',\n",
       "       'Cloud Data Engineer', 'Data Operations Analyst',\n",
       "       'Marketing Data Analyst', 'Power BI Developer',\n",
       "       'Product Data Scientist', 'Principal Data Architect',\n",
       "       'Machine Learning Manager', 'Lead Machine Learning Engineer',\n",
       "       'ETL Developer', 'Cloud Data Architect', 'Lead Data Engineer',\n",
       "       'Head of Machine Learning', 'Principal Data Analyst',\n",
       "       'Principal Data Engineer', 'Staff Data Scientist',\n",
       "       'Finance Data Analyst'], dtype=object)"
      ]
     },
     "execution_count": 14,
     "metadata": {},
     "output_type": "execute_result"
    }
   ],
   "source": [
    "# Check Column job title\n",
    "df['job_title'].unique()"
   ]
  },
  {
   "cell_type": "code",
   "execution_count": 15,
   "metadata": {},
   "outputs": [
    {
     "data": {
      "text/plain": [
       "array(['Data Scientist', 'Data Engineer', 'Data Analyst', 'Other'],\n",
       "      dtype=object)"
      ]
     },
     "execution_count": 15,
     "metadata": {},
     "output_type": "execute_result"
    }
   ],
   "source": [
    "# Categorization of the data\n",
    "def categorize_title(title):\n",
    "    if 'Analyst' in title or \"Data Lead\" in title:\n",
    "        return 'Data Analyst'\n",
    "    elif 'Scientist' in title or \"Science\" in title or \"Researcher\" in title:\n",
    "        return 'Data Scientist'\n",
    "    elif 'Engineer' in title or 'Architect' in title or 'Developer' in title or \"Programmer\" in title:\n",
    "        return 'Data Engineer'\n",
    "    else:\n",
    "        return 'Other'\n",
    "\n",
    "# Apply categorization function to create a new column\n",
    "df['job_type'] = df['job_title'].apply(categorize_title)\n",
    "df['job_type'].unique()"
   ]
  },
  {
   "cell_type": "code",
   "execution_count": 16,
   "metadata": {},
   "outputs": [
    {
     "data": {
      "text/html": [
       "<div>\n",
       "<style scoped>\n",
       "    .dataframe tbody tr th:only-of-type {\n",
       "        vertical-align: middle;\n",
       "    }\n",
       "\n",
       "    .dataframe tbody tr th {\n",
       "        vertical-align: top;\n",
       "    }\n",
       "\n",
       "    .dataframe thead th {\n",
       "        text-align: right;\n",
       "    }\n",
       "</style>\n",
       "<table border=\"1\" class=\"dataframe\">\n",
       "  <thead>\n",
       "    <tr style=\"text-align: right;\">\n",
       "      <th></th>\n",
       "      <th>work_year</th>\n",
       "      <th>experience_level</th>\n",
       "      <th>employment_type</th>\n",
       "      <th>job_title</th>\n",
       "      <th>salary</th>\n",
       "      <th>salary_currency</th>\n",
       "      <th>salary_in_usd</th>\n",
       "      <th>employee_residence</th>\n",
       "      <th>remote_ratio</th>\n",
       "      <th>company_location</th>\n",
       "      <th>company_size</th>\n",
       "      <th>job_type</th>\n",
       "    </tr>\n",
       "  </thead>\n",
       "  <tbody>\n",
       "    <tr>\n",
       "      <th>0</th>\n",
       "      <td>2023</td>\n",
       "      <td>SE</td>\n",
       "      <td>FT</td>\n",
       "      <td>Principal Data Scientist</td>\n",
       "      <td>80000</td>\n",
       "      <td>EUR</td>\n",
       "      <td>85847</td>\n",
       "      <td>ES</td>\n",
       "      <td>100</td>\n",
       "      <td>ES</td>\n",
       "      <td>L</td>\n",
       "      <td>Data Scientist</td>\n",
       "    </tr>\n",
       "    <tr>\n",
       "      <th>1</th>\n",
       "      <td>2023</td>\n",
       "      <td>MI</td>\n",
       "      <td>CT</td>\n",
       "      <td>ML Engineer</td>\n",
       "      <td>30000</td>\n",
       "      <td>USD</td>\n",
       "      <td>30000</td>\n",
       "      <td>US</td>\n",
       "      <td>100</td>\n",
       "      <td>US</td>\n",
       "      <td>S</td>\n",
       "      <td>Data Engineer</td>\n",
       "    </tr>\n",
       "    <tr>\n",
       "      <th>2</th>\n",
       "      <td>2023</td>\n",
       "      <td>MI</td>\n",
       "      <td>CT</td>\n",
       "      <td>ML Engineer</td>\n",
       "      <td>25500</td>\n",
       "      <td>USD</td>\n",
       "      <td>25500</td>\n",
       "      <td>US</td>\n",
       "      <td>100</td>\n",
       "      <td>US</td>\n",
       "      <td>S</td>\n",
       "      <td>Data Engineer</td>\n",
       "    </tr>\n",
       "    <tr>\n",
       "      <th>3</th>\n",
       "      <td>2023</td>\n",
       "      <td>SE</td>\n",
       "      <td>FT</td>\n",
       "      <td>Data Scientist</td>\n",
       "      <td>175000</td>\n",
       "      <td>USD</td>\n",
       "      <td>175000</td>\n",
       "      <td>CA</td>\n",
       "      <td>100</td>\n",
       "      <td>CA</td>\n",
       "      <td>M</td>\n",
       "      <td>Data Scientist</td>\n",
       "    </tr>\n",
       "    <tr>\n",
       "      <th>4</th>\n",
       "      <td>2023</td>\n",
       "      <td>SE</td>\n",
       "      <td>FT</td>\n",
       "      <td>Data Scientist</td>\n",
       "      <td>120000</td>\n",
       "      <td>USD</td>\n",
       "      <td>120000</td>\n",
       "      <td>CA</td>\n",
       "      <td>100</td>\n",
       "      <td>CA</td>\n",
       "      <td>M</td>\n",
       "      <td>Data Scientist</td>\n",
       "    </tr>\n",
       "  </tbody>\n",
       "</table>\n",
       "</div>"
      ],
      "text/plain": [
       "   work_year experience_level employment_type                 job_title  \\\n",
       "0       2023               SE              FT  Principal Data Scientist   \n",
       "1       2023               MI              CT               ML Engineer   \n",
       "2       2023               MI              CT               ML Engineer   \n",
       "3       2023               SE              FT            Data Scientist   \n",
       "4       2023               SE              FT            Data Scientist   \n",
       "\n",
       "   salary salary_currency  salary_in_usd employee_residence  remote_ratio  \\\n",
       "0   80000             EUR          85847                 ES           100   \n",
       "1   30000             USD          30000                 US           100   \n",
       "2   25500             USD          25500                 US           100   \n",
       "3  175000             USD         175000                 CA           100   \n",
       "4  120000             USD         120000                 CA           100   \n",
       "\n",
       "  company_location company_size        job_type  \n",
       "0               ES            L  Data Scientist  \n",
       "1               US            S   Data Engineer  \n",
       "2               US            S   Data Engineer  \n",
       "3               CA            M  Data Scientist  \n",
       "4               CA            M  Data Scientist  "
      ]
     },
     "execution_count": 16,
     "metadata": {},
     "output_type": "execute_result"
    }
   ],
   "source": [
    "df.head()"
   ]
  },
  {
   "cell_type": "markdown",
   "metadata": {},
   "source": [
    "### Exploratory Data Analysis"
   ]
  },
  {
   "cell_type": "code",
   "execution_count": 17,
   "metadata": {},
   "outputs": [],
   "source": [
    "# what is the average salary based on work type\n",
    "average_salary = df.groupby('job_type')['salary_in_usd'].mean().sort_values(ascending=False)"
   ]
  },
  {
   "cell_type": "code",
   "execution_count": 20,
   "metadata": {},
   "outputs": [
    {
     "data": {
      "image/png": "[encoded data removed]",
      "text/plain": [
       "<Figure size 1000x600 with 1 Axes>"
      ]
     },
     "metadata": {},
     "output_type": "display_data"
    }
   ],
   "source": [
    "average_salary_df = average_salary.reset_index()\n",
    "\n",
    "# Plotting\n",
    "plt.figure(figsize=(10, 6))\n",
    "sns.barplot(x='salary_in_usd', y='job_type', data=average_salary_df, palette='viridis')\n",
    "\n",
    "# Adding titles and labels\n",
    "plt.title('Average Salary by Job Type')\n",
    "plt.xlabel('Average Salary in USD')\n",
    "plt.ylabel('Job Type')\n",
    "\n",
    "# Show the plot\n",
    "plt.show()"
   ]
  },
  {
   "cell_type": "code",
   "execution_count": null,
   "metadata": {},
   "outputs": [],
   "source": []
  },
  {
   "cell_type": "code",
   "execution_count": null,
   "metadata": {},
   "outputs": [],
   "source": []
  },
  {
   "cell_type": "code",
   "execution_count": null,
   "metadata": {},
   "outputs": [],
   "source": []
  },
  {
   "cell_type": "code",
   "execution_count": null,
   "metadata": {},
   "outputs": [],
   "source": []
  },
  {
   "cell_type": "code",
   "execution_count": null,
   "metadata": {},
   "outputs": [],
   "source": []
  },
  {
   "cell_type": "code",
   "execution_count": null,
   "metadata": {},
   "outputs": [],
   "source": []
  }
 ],
 "metadata": {
  "kernelspec": {
   "display_name": "base",
   "language": "python",
   "name": "python3"
  },
  "language_info": {
   "codemirror_mode": {
    "name": "ipython",
    "version": 3
   },
   "file_extension": ".py",
   "mimetype": "text/x-python",
   "name": "python",
   "nbconvert_exporter": "python",
   "pygments_lexer": "ipython3",
   "version": "3.11.7"
  }
 },
 "nbformat": 4,
 "nbformat_minor": 2
}
